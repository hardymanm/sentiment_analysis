{
  "nbformat": 4,
  "nbformat_minor": 0,
  "metadata": {
    "colab": {
      "name": "Sentiment_movie.ipynb",
      "provenance": [],
      "include_colab_link": true
    },
    "kernelspec": {
      "name": "python3",
      "display_name": "Python 3"
    },
    "language_info": {
      "name": "python"
    }
  },
  "cells": [
    {
      "cell_type": "markdown",
      "metadata": {
        "id": "view-in-github",
        "colab_type": "text"
      },
      "source": [
        "<a href=\"https://colab.research.google.com/github/hardymanm/sentiment_analysis/blob/main/Sentiment_movie.ipynb\" target=\"_parent\"><img src=\"https://colab.research.google.com/assets/colab-badge.svg\" alt=\"Open In Colab\"/></a>"
      ]
    },
    {
      "cell_type": "markdown",
      "metadata": {
        "id": "RWSyS7QaIlbj"
      },
      "source": [
        "Downloading using GITHUB"
      ]
    },
    {
      "cell_type": "code",
      "metadata": {
        "colab": {
          "base_uri": "https://localhost:8080/"
        },
        "id": "_F-KhA9QIfte",
        "outputId": "94b9cd6b-3268-4e70-d1b0-39188d24f7f6"
      },
      "source": [
        "!wget https://github.com/hardymanm/sentiment_analysis/blob/main/f_test.txt"
      ],
      "execution_count": 1,
      "outputs": [
        {
          "output_type": "stream",
          "name": "stdout",
          "text": [
            "--2021-10-02 14:08:48--  https://github.com/hardymanm/sentiment_analysis/blob/main/f_test.txt\n",
            "Resolving github.com (github.com)... 140.82.112.4\n",
            "Connecting to github.com (github.com)|140.82.112.4|:443... connected.\n",
            "HTTP request sent, awaiting response... 200 OK\n",
            "Length: unspecified [text/html]\n",
            "Saving to: ‘f_test.txt’\n",
            "\n",
            "\rf_test.txt              [<=>                 ]       0  --.-KB/s               \rf_test.txt              [ <=>                ] 126.86K  --.-KB/s    in 0.04s   \n",
            "\n",
            "2021-10-02 14:08:49 (3.34 MB/s) - ‘f_test.txt’ saved [129908]\n",
            "\n"
          ]
        }
      ]
    },
    {
      "cell_type": "code",
      "metadata": {
        "colab": {
          "base_uri": "https://localhost:8080/"
        },
        "id": "rGpuPChMVXsF",
        "outputId": "7bfb5398-3159-4c15-8508-8eb06a68b5a2"
      },
      "source": [
        "!wget https://github.com/hardymanm/sentiment_analysis/blob/main/f_train.txt"
      ],
      "execution_count": 2,
      "outputs": [
        {
          "output_type": "stream",
          "name": "stdout",
          "text": [
            "--2021-10-02 14:09:26--  https://github.com/hardymanm/sentiment_analysis/blob/main/f_train.txt\n",
            "Resolving github.com (github.com)... 140.82.112.4\n",
            "Connecting to github.com (github.com)|140.82.112.4|:443... connected.\n",
            "HTTP request sent, awaiting response... 200 OK\n",
            "Length: unspecified [text/html]\n",
            "Saving to: ‘f_train.txt’\n",
            "\n",
            "f_train.txt             [ <=>                ] 126.90K  --.-KB/s    in 0.04s   \n",
            "\n",
            "2021-10-02 14:09:26 (3.28 MB/s) - ‘f_train.txt’ saved [129941]\n",
            "\n"
          ]
        }
      ]
    },
    {
      "cell_type": "markdown",
      "metadata": {
        "id": "sSu8dsCraWzH"
      },
      "source": [
        "Download from google drive\n"
      ]
    },
    {
      "cell_type": "code",
      "metadata": {
        "id": "BAI1cKchaECf"
      },
      "source": [
        "from google.colab import drive\n",
        "\n",
        "drive.mount('/content/gdrive')"
      ],
      "execution_count": null,
      "outputs": []
    },
    {
      "cell_type": "markdown",
      "metadata": {
        "id": "SVCrIANeJIMa"
      },
      "source": [
        "Import Libraries"
      ]
    },
    {
      "cell_type": "code",
      "metadata": {
        "id": "3W5yDr3lRg56"
      },
      "source": [
        "from sklearn.feature_extraction.text import TfidfVectorizer\n",
        "from sklearn.metrics import accuracy_score\n",
        "import numpy as np\n",
        "import pandas as pd\n",
        "import os\n",
        "import re"
      ],
      "execution_count": 3,
      "outputs": []
    },
    {
      "cell_type": "code",
      "metadata": {
        "id": "0yRRB7APaFG8"
      },
      "source": [
        "reviews_train = []\n",
        "for line in open('f_train.txt', 'r'):\n",
        "    \n",
        "    reviews_train.append(line.strip())\n",
        "    \n",
        "reviews_test = []\n",
        "for line in open('f_test.txt', 'r'):\n",
        "    \n",
        "    reviews_test.append(line.strip())"
      ],
      "execution_count": 4,
      "outputs": []
    },
    {
      "cell_type": "code",
      "metadata": {
        "colab": {
          "base_uri": "https://localhost:8080/",
          "height": 35
        },
        "id": "Qt6Obm8FWAbt",
        "outputId": "629b55f6-1d75-459f-b193-b05a3b7a3c1e"
      },
      "source": [
        "reviews_train[5]"
      ],
      "execution_count": 6,
      "outputs": [
        {
          "output_type": "execute_result",
          "data": {
            "application/vnd.google.colaboratory.intrinsic+json": {
              "type": "string"
            },
            "text/plain": [
              "''"
            ]
          },
          "metadata": {},
          "execution_count": 6
        }
      ]
    },
    {
      "cell_type": "code",
      "metadata": {
        "id": "YEiMsFxuWDbG"
      },
      "source": [
        ""
      ],
      "execution_count": null,
      "outputs": []
    }
  ]
}